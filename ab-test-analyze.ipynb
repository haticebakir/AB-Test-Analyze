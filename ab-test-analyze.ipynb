{
 "cells": [
  {
   "cell_type": "markdown",
   "id": "unlikely-notebook",
   "metadata": {
    "papermill": {
     "duration": 0.02873,
     "end_time": "2021-06-22T21:11:34.211689",
     "exception": false,
     "start_time": "2021-06-22T21:11:34.182959",
     "status": "completed"
    },
    "tags": []
   },
   "source": [
    "# **AB Testing with Python**\n",
    "![abtest](https://www.ideasoft.com.tr/wp-content/uploads/2018/01/facebook-ab-testi-1-1024x536.jpg)\n",
    "\n",
    "Image Source [http://www.ideasoft.com.tr/facebook-ab-testi/](http://www.ideasoft.com.tr/facebook-ab-testi/)\n",
    "\n",
    "A gaming company has long decided to make changes to the interface of a mobile game on the market.\n",
    "As a result of the change, the user wants to measure their experience. It analyzes the conversion rates of its new interface with A/B test.\n",
    "\n",
    "One of their customers has decided to test this new feature and wants to do an A/B test to see if new interface converts more than existing.\n",
    "\n",
    "In this A/B test, the client randomly splits its audience into two equally sized groups, e.g. the test and the control group. It is the current interface control group in the analysis. The new interface that has been modified will be the test group.\n",
    "\n",
    "**Data Understanding**\n",
    "\n",
    "Impression – Number of ad views\n",
    "\n",
    "Click – Specifies the number of clicks on the ad that appears.\n",
    "\n",
    "Purchase – Specifies the number of products purchased after clicked ads.\n",
    "\n",
    "Earning – Gain after purchased products\n",
    "\n",
    "\n"
   ]
  },
  {
   "cell_type": "code",
   "execution_count": 1,
   "id": "vocal-haiti",
   "metadata": {
    "_cell_guid": "b1076dfc-b9ad-4769-8c92-a6c4dae69d19",
    "_uuid": "8f2839f25d086af736a60e9eeb907d3b93b6e0e5",
    "execution": {
     "iopub.execute_input": "2021-06-22T21:11:34.278323Z",
     "iopub.status.busy": "2021-06-22T21:11:34.277567Z",
     "iopub.status.idle": "2021-06-22T21:11:35.550925Z",
     "shell.execute_reply": "2021-06-22T21:11:35.550064Z",
     "shell.execute_reply.started": "2021-06-22T11:48:35.940986Z"
    },
    "papermill": {
     "duration": 1.312292,
     "end_time": "2021-06-22T21:11:35.551142",
     "exception": false,
     "start_time": "2021-06-22T21:11:34.238850",
     "status": "completed"
    },
    "tags": []
   },
   "outputs": [],
   "source": [
    "# # loading necessary libraries\n",
    "import numpy as np\n",
    "import pandas as pd\n",
    "import matplotlib.pyplot as plt\n",
    "import seaborn as sns\n",
    "import statsmodels.stats.api as sms\n",
    "from scipy.stats import ttest_1samp, shapiro, levene, ttest_ind, mannwhitneyu, pearsonr, spearmanr, kendalltau, \\\n",
    "    f_oneway, kruskal\n",
    "from statsmodels.stats.proportion import proportions_ztest\n",
    "\n",
    "pd.set_option('display.max_columns', None)\n",
    "pd.set_option('display.max_rows', 10)\n",
    "pd.set_option('display.float_format', lambda x: '%.5f' % x)"
   ]
  },
  {
   "cell_type": "code",
   "execution_count": 2,
   "id": "entertaining-freedom",
   "metadata": {
    "execution": {
     "iopub.execute_input": "2021-06-22T21:11:35.623362Z",
     "iopub.status.busy": "2021-06-22T21:11:35.609431Z",
     "iopub.status.idle": "2021-06-22T21:11:45.246255Z",
     "shell.execute_reply": "2021-06-22T21:11:45.245675Z",
     "shell.execute_reply.started": "2021-06-22T11:51:15.0353Z"
    },
    "papermill": {
     "duration": 9.668055,
     "end_time": "2021-06-22T21:11:45.246427",
     "exception": false,
     "start_time": "2021-06-22T21:11:35.578372",
     "status": "completed"
    },
    "tags": []
   },
   "outputs": [
    {
     "name": "stdout",
     "output_type": "stream",
     "text": [
      "Collecting openpyxl\r\n",
      "  Downloading openpyxl-3.0.7-py2.py3-none-any.whl (243 kB)\r\n",
      "\u001b[K     |████████████████████████████████| 243 kB 1.1 MB/s \r\n",
      "\u001b[?25hCollecting et-xmlfile\r\n",
      "  Downloading et_xmlfile-1.1.0-py3-none-any.whl (4.7 kB)\r\n",
      "Installing collected packages: et-xmlfile, openpyxl\r\n",
      "Successfully installed et-xmlfile-1.1.0 openpyxl-3.0.7\r\n"
     ]
    }
   ],
   "source": [
    "!pip install openpyxl"
   ]
  },
  {
   "cell_type": "code",
   "execution_count": 3,
   "id": "sustained-indianapolis",
   "metadata": {
    "execution": {
     "iopub.execute_input": "2021-06-22T21:11:45.316241Z",
     "iopub.status.busy": "2021-06-22T21:11:45.315467Z",
     "iopub.status.idle": "2021-06-22T21:11:45.660546Z",
     "shell.execute_reply": "2021-06-22T21:11:45.659774Z",
     "shell.execute_reply.started": "2021-06-22T11:51:31.12804Z"
    },
    "papermill": {
     "duration": 0.383635,
     "end_time": "2021-06-22T21:11:45.660723",
     "exception": false,
     "start_time": "2021-06-22T21:11:45.277088",
     "status": "completed"
    },
    "tags": []
   },
   "outputs": [],
   "source": [
    "# Reading the data\n",
    "Control_df = pd.read_excel(\"../input/ab-testing/ab_testing.xlsx\", sheet_name=\"Control Group\", usecols=\"A:D\")\n",
    "Test_df = pd.read_excel(\"../input/ab-testing/ab_testing.xlsx\", sheet_name=\"Test Group\", usecols=\"A:D\")"
   ]
  },
  {
   "cell_type": "code",
   "execution_count": 4,
   "id": "instrumental-shock",
   "metadata": {
    "execution": {
     "iopub.execute_input": "2021-06-22T21:11:45.727594Z",
     "iopub.status.busy": "2021-06-22T21:11:45.726644Z",
     "iopub.status.idle": "2021-06-22T21:11:45.746394Z",
     "shell.execute_reply": "2021-06-22T21:11:45.746869Z",
     "shell.execute_reply.started": "2021-06-22T14:36:01.258081Z"
    },
    "papermill": {
     "duration": 0.055386,
     "end_time": "2021-06-22T21:11:45.747129",
     "exception": false,
     "start_time": "2021-06-22T21:11:45.691743",
     "status": "completed"
    },
    "tags": []
   },
   "outputs": [
    {
     "name": "stdout",
     "output_type": "stream",
     "text": [
      "    Impression      Click  Purchase    Earning\n",
      "0  82529.45927 6090.07732 665.21125 2311.27714\n",
      "1  98050.45193 3382.86179 315.08489 1742.80686\n",
      "2  82696.02355 4167.96575 458.08374 1797.82745\n",
      "3 109914.40040 4910.88224 487.09077 1696.22918\n",
      "4 108457.76263 5987.65581 441.03405 1543.72018\n",
      "    Impression      Click  Purchase    Earning\n",
      "0 120103.50380 3216.54796 702.16035 1939.61124\n",
      "1 134775.94336 3635.08242 834.05429 2929.40582\n",
      "2 107806.62079 3057.14356 422.93426 2526.24488\n",
      "3 116445.27553 4650.47391 429.03353 2281.42857\n",
      "4 145082.51684 5201.38772 749.86044 2781.69752\n"
     ]
    }
   ],
   "source": [
    "print(Control_df.head())\n",
    "print(Test_df.head())"
   ]
  },
  {
   "cell_type": "code",
   "execution_count": 5,
   "id": "distributed-harvard",
   "metadata": {
    "execution": {
     "iopub.execute_input": "2021-06-22T21:11:45.821298Z",
     "iopub.status.busy": "2021-06-22T21:11:45.814738Z",
     "iopub.status.idle": "2021-06-22T21:11:45.859713Z",
     "shell.execute_reply": "2021-06-22T21:11:45.860551Z",
     "shell.execute_reply.started": "2021-06-22T13:48:29.319806Z"
    },
    "papermill": {
     "duration": 0.082191,
     "end_time": "2021-06-22T21:11:45.860837",
     "exception": false,
     "start_time": "2021-06-22T21:11:45.778646",
     "status": "completed"
    },
    "tags": []
   },
   "outputs": [
    {
     "name": "stdout",
     "output_type": "stream",
     "text": [
      "              count         mean         std         min         25%  \\\n",
      "Impression 40.00000 101711.44907 20302.15786 45475.94296 85726.69035   \n",
      "Click      40.00000   5100.65737  1329.98550  2189.75316  4124.30413   \n",
      "Purchase   40.00000    550.89406   134.10820   267.02894   470.09553   \n",
      "Earning    40.00000   1908.56830   302.91778  1253.98952  1685.84720   \n",
      "\n",
      "                   50%          75%          max  \n",
      "Impression 99790.70108 115212.81654 147539.33633  \n",
      "Click       5001.22060   5923.80360   7959.12507  \n",
      "Purchase     531.20631    637.95709    801.79502  \n",
      "Earning     1975.16052   2119.80278   2497.29522  \n",
      "              count         mean         std         min          25%  \\\n",
      "Impression 40.00000 120512.41176 18807.44871 79033.83492 112691.97077   \n",
      "Click      40.00000   3967.54976   923.09507  1836.62986   3376.81902   \n",
      "Purchase   40.00000    582.10610   161.15251   311.62952    444.62683   \n",
      "Earning    40.00000   2514.89073   282.73085  1939.61124   2280.53743   \n",
      "\n",
      "                    50%          75%          max  \n",
      "Impression 119291.30077 132050.57893 158605.92048  \n",
      "Click        3931.35980   4660.49791   6019.69508  \n",
      "Purchase      551.35573    699.86236    889.91046  \n",
      "Earning      2544.66611   2761.54540   3171.48971  \n"
     ]
    }
   ],
   "source": [
    "print(Control_df.describe().T)\n",
    "print(Test_df.describe().T)"
   ]
  },
  {
   "cell_type": "code",
   "execution_count": 6,
   "id": "alleged-baker",
   "metadata": {
    "execution": {
     "iopub.execute_input": "2021-06-22T21:11:45.933227Z",
     "iopub.status.busy": "2021-06-22T21:11:45.932422Z",
     "iopub.status.idle": "2021-06-22T21:11:45.936232Z",
     "shell.execute_reply": "2021-06-22T21:11:45.935622Z"
    },
    "papermill": {
     "duration": 0.045163,
     "end_time": "2021-06-22T21:11:45.936378",
     "exception": false,
     "start_time": "2021-06-22T21:11:45.891215",
     "status": "completed"
    },
    "tags": []
   },
   "outputs": [
    {
     "data": {
      "text/plain": [
       "Impression    0\n",
       "Click         0\n",
       "Purchase      0\n",
       "Earning       0\n",
       "dtype: int64"
      ]
     },
     "execution_count": 6,
     "metadata": {},
     "output_type": "execute_result"
    }
   ],
   "source": [
    "#checking for missing values\n",
    "Control_df.isnull().sum()\n",
    "Test_df.isnull().sum()"
   ]
  },
  {
   "cell_type": "code",
   "execution_count": 7,
   "id": "provincial-muslim",
   "metadata": {
    "execution": {
     "iopub.execute_input": "2021-06-22T21:11:46.002762Z",
     "iopub.status.busy": "2021-06-22T21:11:46.002119Z",
     "iopub.status.idle": "2021-06-22T21:11:46.005659Z",
     "shell.execute_reply": "2021-06-22T21:11:46.005170Z",
     "shell.execute_reply.started": "2021-06-22T12:06:26.524496Z"
    },
    "papermill": {
     "duration": 0.039954,
     "end_time": "2021-06-22T21:11:46.005808",
     "exception": false,
     "start_time": "2021-06-22T21:11:45.965854",
     "status": "completed"
    },
    "tags": []
   },
   "outputs": [],
   "source": [
    "# Focus purchase averages\n",
    "control = pd.DataFrame(Control_df[\"Purchase\"])\n",
    "test = pd.DataFrame(Test_df[\"Purchase\"])"
   ]
  },
  {
   "cell_type": "code",
   "execution_count": 8,
   "id": "lovely-teddy",
   "metadata": {
    "execution": {
     "iopub.execute_input": "2021-06-22T21:11:46.077686Z",
     "iopub.status.busy": "2021-06-22T21:11:46.076960Z",
     "iopub.status.idle": "2021-06-22T21:11:46.088970Z",
     "shell.execute_reply": "2021-06-22T21:11:46.088328Z",
     "shell.execute_reply.started": "2021-06-22T12:06:31.478739Z"
    },
    "papermill": {
     "duration": 0.053717,
     "end_time": "2021-06-22T21:11:46.089126",
     "exception": false,
     "start_time": "2021-06-22T21:11:46.035409",
     "status": "completed"
    },
    "tags": []
   },
   "outputs": [
    {
     "data": {
      "text/html": [
       "<div>\n",
       "<style scoped>\n",
       "    .dataframe tbody tr th:only-of-type {\n",
       "        vertical-align: middle;\n",
       "    }\n",
       "\n",
       "    .dataframe tbody tr th {\n",
       "        vertical-align: top;\n",
       "    }\n",
       "\n",
       "    .dataframe thead th {\n",
       "        text-align: right;\n",
       "    }\n",
       "</style>\n",
       "<table border=\"1\" class=\"dataframe\">\n",
       "  <thead>\n",
       "    <tr style=\"text-align: right;\">\n",
       "      <th></th>\n",
       "      <th>Purchase_c</th>\n",
       "      <th>Purchase_t</th>\n",
       "    </tr>\n",
       "  </thead>\n",
       "  <tbody>\n",
       "    <tr>\n",
       "      <th>0</th>\n",
       "      <td>665.21125</td>\n",
       "      <td>702.16035</td>\n",
       "    </tr>\n",
       "    <tr>\n",
       "      <th>1</th>\n",
       "      <td>315.08489</td>\n",
       "      <td>834.05429</td>\n",
       "    </tr>\n",
       "    <tr>\n",
       "      <th>2</th>\n",
       "      <td>458.08374</td>\n",
       "      <td>422.93426</td>\n",
       "    </tr>\n",
       "    <tr>\n",
       "      <th>3</th>\n",
       "      <td>487.09077</td>\n",
       "      <td>429.03353</td>\n",
       "    </tr>\n",
       "    <tr>\n",
       "      <th>4</th>\n",
       "      <td>441.03405</td>\n",
       "      <td>749.86044</td>\n",
       "    </tr>\n",
       "  </tbody>\n",
       "</table>\n",
       "</div>"
      ],
      "text/plain": [
       "   Purchase_c  Purchase_t\n",
       "0   665.21125   702.16035\n",
       "1   315.08489   834.05429\n",
       "2   458.08374   422.93426\n",
       "3   487.09077   429.03353\n",
       "4   441.03405   749.86044"
      ]
     },
     "execution_count": 8,
     "metadata": {},
     "output_type": "execute_result"
    }
   ],
   "source": [
    "# Purchases in the control and test group are combined.\n",
    "ct = pd.concat([control, test], axis=1)\n",
    "ct.columns = [\"Purchase_c\", \"Purchase_t\"]\n",
    "ct.head()"
   ]
  },
  {
   "cell_type": "markdown",
   "id": "simple-maker",
   "metadata": {
    "papermill": {
     "duration": 0.0316,
     "end_time": "2021-06-22T21:11:46.151680",
     "exception": false,
     "start_time": "2021-06-22T21:11:46.120080",
     "status": "completed"
    },
    "tags": []
   },
   "source": [
    "Control Group has 550 purchases in average and test group has 582 purchases in average, meaning Test group has more purchases in average. However, we need to check if this is a significant difference."
   ]
  },
  {
   "cell_type": "code",
   "execution_count": 9,
   "id": "injured-conversion",
   "metadata": {
    "execution": {
     "iopub.execute_input": "2021-06-22T21:11:46.221303Z",
     "iopub.status.busy": "2021-06-22T21:11:46.220494Z",
     "iopub.status.idle": "2021-06-22T21:11:46.225187Z",
     "shell.execute_reply": "2021-06-22T21:11:46.224561Z",
     "shell.execute_reply.started": "2021-06-22T13:48:44.691815Z"
    },
    "papermill": {
     "duration": 0.042787,
     "end_time": "2021-06-22T21:11:46.225346",
     "exception": false,
     "start_time": "2021-06-22T21:11:46.182559",
     "status": "completed"
    },
    "tags": []
   },
   "outputs": [
    {
     "name": "stdout",
     "output_type": "stream",
     "text": [
      "550.8940587702316\n",
      "582.1060966484677\n"
     ]
    }
   ],
   "source": [
    "print(ct[\"Purchase_c\"].mean())\n",
    "\n",
    "print(ct[\"Purchase_t\"].mean())"
   ]
  },
  {
   "cell_type": "markdown",
   "id": "owned-sport",
   "metadata": {
    "papermill": {
     "duration": 0.030492,
     "end_time": "2021-06-22T21:11:46.286492",
     "exception": false,
     "start_time": "2021-06-22T21:11:46.256000",
     "status": "completed"
    },
    "tags": []
   },
   "source": [
    "* Group A: Existing method:   Control Group\n",
    "* Group B: New method:   Test Group"
   ]
  },
  {
   "cell_type": "markdown",
   "id": "material-kingdom",
   "metadata": {
    "papermill": {
     "duration": 0.030027,
     "end_time": "2021-06-22T21:11:46.346789",
     "exception": false,
     "start_time": "2021-06-22T21:11:46.316762",
     "status": "completed"
    },
    "tags": []
   },
   "source": [
    "Hypothesis Testing\n",
    "\n",
    "Is there a statistically significant difference between control and test group product purchase averages?\n",
    "\n",
    "We have independent and paired sample groups, we can use T-testing for Hypothesis test.\n",
    "A t-test is a statistic method used to determine if there is a significant difference between the means of two groups based on a sample of data.\n",
    "\n",
    "The common assumptions made when doing a t-test include normality of data distribution and equality of variance in standard deviation.\n",
    "\n",
    "* Normality of data distribution\n",
    "* Equality of variances"
   ]
  },
  {
   "cell_type": "markdown",
   "id": "pharmaceutical-repeat",
   "metadata": {
    "papermill": {
     "duration": 0.029877,
     "end_time": "2021-06-22T21:11:46.407081",
     "exception": false,
     "start_time": "2021-06-22T21:11:46.377204",
     "status": "completed"
    },
    "tags": []
   },
   "source": [
    "**Normality of data distribution**\n",
    "\n",
    "Shapiro test is applied for checking the first assumption. \n",
    "\n",
    "H0 : The population from which the sample comes from dissipates normally.\n",
    "\n",
    "H1 : The population from which the sample comes from does not dissipate normally."
   ]
  },
  {
   "cell_type": "code",
   "execution_count": 10,
   "id": "advisory-rotation",
   "metadata": {
    "execution": {
     "iopub.execute_input": "2021-06-22T21:11:46.471503Z",
     "iopub.status.busy": "2021-06-22T21:11:46.470852Z",
     "iopub.status.idle": "2021-06-22T21:11:46.479085Z",
     "shell.execute_reply": "2021-06-22T21:11:46.477948Z",
     "shell.execute_reply.started": "2021-06-22T12:30:21.370088Z"
    },
    "papermill": {
     "duration": 0.041711,
     "end_time": "2021-06-22T21:11:46.479335",
     "exception": false,
     "start_time": "2021-06-22T21:11:46.437624",
     "status": "completed"
    },
    "tags": []
   },
   "outputs": [
    {
     "name": "stdout",
     "output_type": "stream",
     "text": [
      "Test Stat = 0.9773, p-value = 0.5891\n"
     ]
    }
   ],
   "source": [
    "test_stat, pvalue = shapiro(ct[\"Purchase_c\"])\n",
    "print('Test Stat = %.4f, p-value = %.4f' % (test_stat, pvalue))"
   ]
  },
  {
   "cell_type": "code",
   "execution_count": 11,
   "id": "scenic-marketplace",
   "metadata": {
    "execution": {
     "iopub.execute_input": "2021-06-22T21:11:46.548687Z",
     "iopub.status.busy": "2021-06-22T21:11:46.547923Z",
     "iopub.status.idle": "2021-06-22T21:11:46.550770Z",
     "shell.execute_reply": "2021-06-22T21:11:46.551267Z",
     "shell.execute_reply.started": "2021-06-22T12:30:25.965986Z"
    },
    "papermill": {
     "duration": 0.040203,
     "end_time": "2021-06-22T21:11:46.551461",
     "exception": false,
     "start_time": "2021-06-22T21:11:46.511258",
     "status": "completed"
    },
    "tags": []
   },
   "outputs": [
    {
     "name": "stdout",
     "output_type": "stream",
     "text": [
      "Test Stat = 0.9589, p-value = 0.1541\n"
     ]
    }
   ],
   "source": [
    "test_stat, pvalue = shapiro(ct[\"Purchase_t\"])\n",
    "print('Test Stat = %.4f, p-value = %.4f' % (test_stat, pvalue))"
   ]
  },
  {
   "cell_type": "markdown",
   "id": "interstate-removal",
   "metadata": {
    "papermill": {
     "duration": 0.031158,
     "end_time": "2021-06-22T21:11:46.615768",
     "exception": false,
     "start_time": "2021-06-22T21:11:46.584610",
     "status": "completed"
    },
    "tags": []
   },
   "source": [
    "p-value > 0.05 → Fail to Reject H0\n",
    "As a result of Shapiro test, it is seen that the normality assumption has been satisfied."
   ]
  },
  {
   "cell_type": "markdown",
   "id": "embedded-intent",
   "metadata": {
    "papermill": {
     "duration": 0.032823,
     "end_time": "2021-06-22T21:11:46.684746",
     "exception": false,
     "start_time": "2021-06-22T21:11:46.651923",
     "status": "completed"
    },
    "tags": []
   },
   "source": [
    "**Equality of variances**\n",
    "\n",
    "Levene test is applied for checking the first assumption. \n",
    "\n",
    "H0: The variances are homogeneous.\n",
    "\n",
    "H1: The variances are non-homogeneous"
   ]
  },
  {
   "cell_type": "code",
   "execution_count": 12,
   "id": "associate-texture",
   "metadata": {
    "execution": {
     "iopub.execute_input": "2021-06-22T21:11:46.751998Z",
     "iopub.status.busy": "2021-06-22T21:11:46.751203Z",
     "iopub.status.idle": "2021-06-22T21:11:46.760212Z",
     "shell.execute_reply": "2021-06-22T21:11:46.760765Z",
     "shell.execute_reply.started": "2021-06-22T12:41:18.035915Z"
    },
    "papermill": {
     "duration": 0.044396,
     "end_time": "2021-06-22T21:11:46.760973",
     "exception": false,
     "start_time": "2021-06-22T21:11:46.716577",
     "status": "completed"
    },
    "tags": []
   },
   "outputs": [
    {
     "name": "stdout",
     "output_type": "stream",
     "text": [
      "Test Stat = 2.6393, p-value = 0.1083\n"
     ]
    }
   ],
   "source": [
    "test_stat, pvalue = levene(ct[\"Purchase_c\"], ct[\"Purchase_t\"])\n",
    "print('Test Stat = %.4f, p-value = %.4f' % (test_stat, pvalue))"
   ]
  },
  {
   "cell_type": "markdown",
   "id": "collectible-payment",
   "metadata": {
    "papermill": {
     "duration": 0.034421,
     "end_time": "2021-06-22T21:11:46.828475",
     "exception": false,
     "start_time": "2021-06-22T21:11:46.794054",
     "status": "completed"
    },
    "tags": []
   },
   "source": [
    "p-value > 0.05 → Fail to Reject H0 \n",
    "\n",
    "The hypothesis that \"variances are homogeneous\" cannot be rejected. So variances can be considered homogeneous."
   ]
  },
  {
   "cell_type": "markdown",
   "id": "catholic-ensemble",
   "metadata": {
    "papermill": {
     "duration": 0.031973,
     "end_time": "2021-06-22T21:11:46.893516",
     "exception": false,
     "start_time": "2021-06-22T21:11:46.861543",
     "status": "completed"
    },
    "tags": []
   },
   "source": [
    "As the normality and equal variance of distributions assumptions are satisfied, we can use Independent Two-Sample T-Test for testing the hypothesis."
   ]
  },
  {
   "cell_type": "markdown",
   "id": "animated-circus",
   "metadata": {
    "papermill": {
     "duration": 0.032699,
     "end_time": "2021-06-22T21:11:46.957891",
     "exception": false,
     "start_time": "2021-06-22T21:11:46.925192",
     "status": "completed"
    },
    "tags": []
   },
   "source": [
    "**Independent Two-Sample T-Test**\n",
    "\n",
    "H0: The product purchasing averages of the control group and the test group are equal to each other. (μ1=μ2)\n",
    "\n",
    "H1: The product purchasing averages of the control group and the test group are not equal. (μ1 ≠ μ2)"
   ]
  },
  {
   "cell_type": "code",
   "execution_count": 13,
   "id": "alone-necessity",
   "metadata": {
    "execution": {
     "iopub.execute_input": "2021-06-22T21:11:47.038658Z",
     "iopub.status.busy": "2021-06-22T21:11:47.030582Z",
     "iopub.status.idle": "2021-06-22T21:11:47.043905Z",
     "shell.execute_reply": "2021-06-22T21:11:47.045208Z",
     "shell.execute_reply.started": "2021-06-22T13:13:06.978188Z"
    },
    "papermill": {
     "duration": 0.05567,
     "end_time": "2021-06-22T21:11:47.045468",
     "exception": false,
     "start_time": "2021-06-22T21:11:46.989798",
     "status": "completed"
    },
    "tags": []
   },
   "outputs": [
    {
     "name": "stdout",
     "output_type": "stream",
     "text": [
      "Test Stat = 2.6393, p-value = 0.3493\n"
     ]
    }
   ],
   "source": [
    "est_stat, pvalue = ttest_ind(ct[\"Purchase_c\"], ct[\"Purchase_t\"], equal_var=True)\n",
    "print('Test Stat = %.4f, p-value = %.4f' % (test_stat, pvalue))"
   ]
  },
  {
   "cell_type": "markdown",
   "id": "green-palestinian",
   "metadata": {
    "papermill": {
     "duration": 0.033162,
     "end_time": "2021-06-22T21:11:47.121370",
     "exception": false,
     "start_time": "2021-06-22T21:11:47.088208",
     "status": "completed"
    },
    "tags": []
   },
   "source": [
    "p-value > 0.05 → Fail to Reject H0\n",
    "\n",
    "Result\n",
    "\n",
    "The hypothesis that the averages of the control group and the test group to purchase products are equal cannot be rejected. The initial comment was by chance.\n",
    "\n",
    "There is no statistically significant difference between control and test group product purchase averages."
   ]
  },
  {
   "cell_type": "markdown",
   "id": "rotary-japanese",
   "metadata": {
    "papermill": {
     "duration": 0.042313,
     "end_time": "2021-06-22T21:11:47.196382",
     "exception": false,
     "start_time": "2021-06-22T21:11:47.154069",
     "status": "completed"
    },
    "tags": []
   },
   "source": [
    "**Analyzing Other Metrics by Hypothesis Testing**\n",
    "\n",
    "CTR (Click through rate)  and Conversion Rate metrics are proportions. Obtained by the other part of one value. In two independent groups, independent 2 sample proportion tests are used when comparing rates.\n",
    "\n",
    "**CTR**\n",
    "\n",
    "Click-through rate (CTR) is a metric, shown as a percentage, that measures how many people clicked your ad to visit a website or landing page.\n",
    "\n",
    "To calculate the click-through rate on a paid ad, divide the total number of clicks on the ad by the total number of impressions (i.e. the total number of people who saw the ad).\n"
   ]
  },
  {
   "cell_type": "code",
   "execution_count": 14,
   "id": "balanced-kruger",
   "metadata": {
    "execution": {
     "iopub.execute_input": "2021-06-22T21:11:47.267886Z",
     "iopub.status.busy": "2021-06-22T21:11:47.267254Z",
     "iopub.status.idle": "2021-06-22T21:11:47.270582Z",
     "shell.execute_reply": "2021-06-22T21:11:47.271092Z",
     "shell.execute_reply.started": "2021-06-22T13:46:13.766923Z"
    },
    "papermill": {
     "duration": 0.042022,
     "end_time": "2021-06-22T21:11:47.271279",
     "exception": false,
     "start_time": "2021-06-22T21:11:47.229257",
     "status": "completed"
    },
    "tags": []
   },
   "outputs": [],
   "source": [
    "ctr_control = Control_df[\"Click\"].sum() / Control_df[\"Impression\"].sum()\n",
    "ctr_test = Test_df[\"Click\"].sum() / Test_df[\"Impression\"].sum()"
   ]
  },
  {
   "cell_type": "code",
   "execution_count": 15,
   "id": "personalized-listening",
   "metadata": {
    "execution": {
     "iopub.execute_input": "2021-06-22T21:11:47.351082Z",
     "iopub.status.busy": "2021-06-22T21:11:47.350129Z",
     "iopub.status.idle": "2021-06-22T21:11:47.356804Z",
     "shell.execute_reply": "2021-06-22T21:11:47.355933Z",
     "shell.execute_reply.started": "2021-06-22T13:46:54.647397Z"
    },
    "papermill": {
     "duration": 0.047701,
     "end_time": "2021-06-22T21:11:47.357043",
     "exception": false,
     "start_time": "2021-06-22T21:11:47.309342",
     "status": "completed"
    },
    "tags": []
   },
   "outputs": [
    {
     "name": "stdout",
     "output_type": "stream",
     "text": [
      "0.05014831092596444\n",
      "0.032922333085396625\n"
     ]
    }
   ],
   "source": [
    "print(ctr_control)\n",
    "print(ctr_test)"
   ]
  },
  {
   "cell_type": "markdown",
   "id": "spiritual-omega",
   "metadata": {
    "papermill": {
     "duration": 0.032813,
     "end_time": "2021-06-22T21:11:47.428156",
     "exception": false,
     "start_time": "2021-06-22T21:11:47.395343",
     "status": "completed"
    },
    "tags": []
   },
   "source": [
    "When looking at the click rates, the values of the control group are higher than the test group. The click-to-click rate of the current system looks better. It should be tested whether this situation contains statistical signiability."
   ]
  },
  {
   "cell_type": "markdown",
   "id": "increasing-conditions",
   "metadata": {
    "papermill": {
     "duration": 0.031964,
     "end_time": "2021-06-22T21:11:47.492357",
     "exception": false,
     "start_time": "2021-06-22T21:11:47.460393",
     "status": "completed"
    },
    "tags": []
   },
   "source": [
    "Test to Be Applied: Independent 2 Sample Proportion Tests \n",
    "\n",
    "The assumption has been made. (n≥ 30)\n",
    "\n",
    "\n",
    "H0: There is no statistically significant difference between control and test group CTR rates.\n",
    "\n",
    "H1: There is a statistically significant difference between control and test group CTR rates."
   ]
  },
  {
   "cell_type": "code",
   "execution_count": 16,
   "id": "residential-melissa",
   "metadata": {
    "execution": {
     "iopub.execute_input": "2021-06-22T21:11:47.567340Z",
     "iopub.status.busy": "2021-06-22T21:11:47.566525Z",
     "iopub.status.idle": "2021-06-22T21:11:47.571851Z",
     "shell.execute_reply": "2021-06-22T21:11:47.570996Z",
     "shell.execute_reply.started": "2021-06-22T13:54:09.032346Z"
    },
    "papermill": {
     "duration": 0.045753,
     "end_time": "2021-06-22T21:11:47.572080",
     "exception": false,
     "start_time": "2021-06-22T21:11:47.526327",
     "status": "completed"
    },
    "tags": []
   },
   "outputs": [
    {
     "name": "stdout",
     "output_type": "stream",
     "text": [
      "Test Stat = 129.3305, p-value = 0.0000\n"
     ]
    }
   ],
   "source": [
    "clicks = np.array([Control_df[\"Click\"].sum(), Test_df[\"Click\"].sum()])\n",
    "impressions = np.array([Control_df[\"Impression\"].sum(), Test_df[\"Impression\"].sum()])\n",
    "\n",
    "test_stat, pvalue = proportions_ztest(count=clicks, nobs=impressions, alternative=\"two-sided\")\n",
    "print('Test Stat = %.4f, p-value = %.4f' % (test_stat, pvalue))"
   ]
  },
  {
   "cell_type": "markdown",
   "id": "basic-denial",
   "metadata": {
    "papermill": {
     "duration": 0.03297,
     "end_time": "2021-06-22T21:11:47.639557",
     "exception": false,
     "start_time": "2021-06-22T21:11:47.606587",
     "status": "completed"
    },
    "tags": []
   },
   "source": [
    "As a result, the p-value found smaller than 0.05 meaning that we reject the H0 hypothesis.\n",
    "When bidding methods are examined, there is a statistically significant difference between CTR rates.\n",
    "And this difference is in favor of the control group."
   ]
  },
  {
   "cell_type": "markdown",
   "id": "independent-champion",
   "metadata": {
    "papermill": {
     "duration": 0.032274,
     "end_time": "2021-06-22T21:11:47.704442",
     "exception": false,
     "start_time": "2021-06-22T21:11:47.672168",
     "status": "completed"
    },
    "tags": []
   },
   "source": [
    "**CR (Conversion rate)**\n",
    "\n",
    "Conversion rate is a metric, shown as a percentage that displays how many website or app visitors complete an action out of the total number of visitors.\n",
    "To calculate the Conversion Rate, you’ll divide the total number of visitors to your website or landing page by the number of completed goals.\n",
    "\n",
    "Similarly, if I want to calculate how many website visitors convert into paying customers, the conversion rate formula will look like this:\n",
    "\n",
    "* Number of Actions / Total Traffic to Site = Conversion Rate"
   ]
  },
  {
   "cell_type": "code",
   "execution_count": 17,
   "id": "short-disability",
   "metadata": {
    "execution": {
     "iopub.execute_input": "2021-06-22T21:11:47.776733Z",
     "iopub.status.busy": "2021-06-22T21:11:47.775810Z",
     "iopub.status.idle": "2021-06-22T21:11:47.780944Z",
     "shell.execute_reply": "2021-06-22T21:11:47.781479Z",
     "shell.execute_reply.started": "2021-06-22T14:01:53.805195Z"
    },
    "papermill": {
     "duration": 0.043765,
     "end_time": "2021-06-22T21:11:47.781668",
     "exception": false,
     "start_time": "2021-06-22T21:11:47.737903",
     "status": "completed"
    },
    "tags": []
   },
   "outputs": [],
   "source": [
    "cr_control = Control_df[\"Purchase\"].sum() / Control_df[\"Impression\"].sum()\n",
    "cr_test = Test_df[\"Purchase\"].sum() / Test_df[\"Impression\"].sum()"
   ]
  },
  {
   "cell_type": "code",
   "execution_count": 18,
   "id": "hawaiian-series",
   "metadata": {
    "execution": {
     "iopub.execute_input": "2021-06-22T21:11:47.850191Z",
     "iopub.status.busy": "2021-06-22T21:11:47.849540Z",
     "iopub.status.idle": "2021-06-22T21:11:47.856873Z",
     "shell.execute_reply": "2021-06-22T21:11:47.855916Z",
     "shell.execute_reply.started": "2021-06-22T14:03:00.734877Z"
    },
    "papermill": {
     "duration": 0.042473,
     "end_time": "2021-06-22T21:11:47.857101",
     "exception": false,
     "start_time": "2021-06-22T21:11:47.814628",
     "status": "completed"
    },
    "tags": []
   },
   "outputs": [
    {
     "name": "stdout",
     "output_type": "stream",
     "text": [
      "0.00541624432470298\n",
      "0.004830258461839089\n"
     ]
    }
   ],
   "source": [
    "print(cr_control)\n",
    "print(cr_test)"
   ]
  },
  {
   "cell_type": "markdown",
   "id": "considered-commons",
   "metadata": {
    "papermill": {
     "duration": 0.034196,
     "end_time": "2021-06-22T21:11:47.925859",
     "exception": false,
     "start_time": "2021-06-22T21:11:47.891663",
     "status": "completed"
    },
    "tags": []
   },
   "source": [
    "At first glance, we see that the conversion rate is in favor of the control group. So when we say how many of the viewers have bought it, the current rate is better.\n",
    "\n",
    "But does this make a statistically significant difference? Or was it just a coincidence?"
   ]
  },
  {
   "cell_type": "markdown",
   "id": "cordless-correction",
   "metadata": {
    "papermill": {
     "duration": 0.032786,
     "end_time": "2021-06-22T21:11:47.991127",
     "exception": false,
     "start_time": "2021-06-22T21:11:47.958341",
     "status": "completed"
    },
    "tags": []
   },
   "source": [
    "Test to Be Applied: Independent 2 Sample Proportion Tests\n",
    "\n",
    "The assumption has been made. (n≥ 30)\n",
    "\n",
    "H0: There is no statistically significant difference between control and test group CR values.\n",
    "\n",
    "H1: There is a statistically significant difference between control and test group CR values."
   ]
  },
  {
   "cell_type": "code",
   "execution_count": 19,
   "id": "wanted-invitation",
   "metadata": {
    "execution": {
     "iopub.execute_input": "2021-06-22T21:11:48.064283Z",
     "iopub.status.busy": "2021-06-22T21:11:48.063405Z",
     "iopub.status.idle": "2021-06-22T21:11:48.068741Z",
     "shell.execute_reply": "2021-06-22T21:11:48.069404Z",
     "shell.execute_reply.started": "2021-06-22T14:11:55.02971Z"
    },
    "papermill": {
     "duration": 0.045946,
     "end_time": "2021-06-22T21:11:48.069636",
     "exception": false,
     "start_time": "2021-06-22T21:11:48.023690",
     "status": "completed"
    },
    "tags": []
   },
   "outputs": [
    {
     "name": "stdout",
     "output_type": "stream",
     "text": [
      "Test Stat = 12.2212, p-value = 0.0000\n"
     ]
    }
   ],
   "source": [
    "purchase = np.array([Control_df[\"Purchase\"].sum(), Test_df[\"Purchase\"].sum()])\n",
    "impression = np.array([Control_df[\"Impression\"].sum(), Test_df[\"Impression\"].sum()])\n",
    "\n",
    "test_stat, pvalue = proportions_ztest(count=purchase, nobs=impression, alternative=\"two-sided\")\n",
    "print('Test Stat = %.4f, p-value = %.4f' % (test_stat, pvalue))"
   ]
  },
  {
   "cell_type": "markdown",
   "id": "hispanic-store",
   "metadata": {
    "papermill": {
     "duration": 0.032437,
     "end_time": "2021-06-22T21:11:48.135873",
     "exception": false,
     "start_time": "2021-06-22T21:11:48.103436",
     "status": "completed"
    },
    "tags": []
   },
   "source": [
    "Result: p value < 0.05 → Fail to reject H0\n",
    "\n",
    "We reject H0 meaning that there is statistically meaningful difference between two groups values and the difference is in favor of the exisitng method."
   ]
  },
  {
   "cell_type": "markdown",
   "id": "military-oliver",
   "metadata": {
    "papermill": {
     "duration": 0.03341,
     "end_time": "2021-06-22T21:11:48.202308",
     "exception": false,
     "start_time": "2021-06-22T21:11:48.168898",
     "status": "completed"
    },
    "tags": []
   },
   "source": [
    "# **Conclusion**\n",
    "\n",
    "There was no significant difference between the control group and the test group product purchase averages.\n",
    "\n",
    "Compared to the control group and the test group CTR ratios, the situation was found to be in favor of the current situation.\n",
    "\n",
    "Compared to the control group and test group conversion rates, the situation was found to be in favor of the current situation\n"
   ]
  },
  {
   "cell_type": "markdown",
   "id": "sound-louisiana",
   "metadata": {
    "papermill": {
     "duration": 0.032334,
     "end_time": "2021-06-22T21:11:48.267479",
     "exception": false,
     "start_time": "2021-06-22T21:11:48.235145",
     "status": "completed"
    },
    "tags": []
   },
   "source": [
    "**Customer Recommendations**\n",
    "\n",
    "As a result, it doesn’t bring more conversions than existing interface. I recommend to the client to continue with existing.\n",
    "\n",
    "In addition, the test can be repeated with more data to be obtained in the future."
   ]
  },
  {
   "cell_type": "markdown",
   "id": "supreme-canyon",
   "metadata": {
    "papermill": {
     "duration": 0.032472,
     "end_time": "2021-06-22T21:11:48.333150",
     "exception": false,
     "start_time": "2021-06-22T21:11:48.300678",
     "status": "completed"
    },
    "tags": []
   },
   "source": [
    "You can find more resources on the subject on [Veri Bilimi Okulu Pages](http://www.veribilimiokulu.com/istatistiksel-a-b-testleri-nasil-yapilir/)"
   ]
  }
 ],
 "metadata": {
  "kernelspec": {
   "display_name": "Python 3",
   "language": "python",
   "name": "python3"
  },
  "language_info": {
   "codemirror_mode": {
    "name": "ipython",
    "version": 3
   },
   "file_extension": ".py",
   "mimetype": "text/x-python",
   "name": "python",
   "nbconvert_exporter": "python",
   "pygments_lexer": "ipython3",
   "version": "3.7.10"
  },
  "papermill": {
   "default_parameters": {},
   "duration": 24.049678,
   "end_time": "2021-06-22T21:11:49.640714",
   "environment_variables": {},
   "exception": null,
   "input_path": "__notebook__.ipynb",
   "output_path": "__notebook__.ipynb",
   "parameters": {},
   "start_time": "2021-06-22T21:11:25.591036",
   "version": "2.3.3"
  }
 },
 "nbformat": 4,
 "nbformat_minor": 5
}
